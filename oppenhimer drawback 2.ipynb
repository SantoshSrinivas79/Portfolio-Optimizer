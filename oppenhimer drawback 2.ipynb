{
 "cells": [
  {
   "cell_type": "code",
   "execution_count": 1,
   "metadata": {},
   "outputs": [],
   "source": [
    "import re\n",
    "import urllib\n",
    "import cx_Oracle\n",
    "import urllib.request\n",
    "import os\n",
    "import pandas as pd\n",
    "import numpy as np"
   ]
  },
  {
   "cell_type": "code",
   "execution_count": 2,
   "metadata": {},
   "outputs": [],
   "source": [
    "# pre_process\n",
    "#import pandas as pd\n",
    "#import numpy as np\n",
    "#label=['date','ticker','c_price','pe','pb','ps']\n",
    "#csv_name=['value_factor06-07.csv','value_factor08-09.csv','value_factor10-11.csv','value_factor12-13.csv','value_factor14-15.csv','value_factor16-17.csv','value_factor18-19.csv']\n",
    "#df_frame=[]\n",
    "#for a in csv_name:\n",
    "   #df=pd.read_csv(a,usecols=[1,2,3,4,5,6],names=label,header=None)\n",
    "    #df_frame.append(df)\n",
    "#df_valfac=pd.concat(df_frame)"
   ]
  },
  {
   "cell_type": "markdown",
   "metadata": {},
   "source": [
    "# Get data"
   ]
  },
  {
   "cell_type": "code",
   "execution_count": 3,
   "metadata": {},
   "outputs": [],
   "source": [
    "label=['date','ticker','val_mv','mv','c_price','pe','pb','ps','turn','oper_rev']\n",
    "df_valfac=pd.read_csv('EOD_factorAll.csv',usecols=[1,2,3,4,5,6,7,8,9,10],names=label,header=None)"
   ]
  },
  {
   "cell_type": "code",
   "execution_count": 4,
   "metadata": {
    "scrolled": true
   },
   "outputs": [
    {
     "data": {
      "text/html": [
       "<div>\n",
       "<style scoped>\n",
       "    .dataframe tbody tr th:only-of-type {\n",
       "        vertical-align: middle;\n",
       "    }\n",
       "\n",
       "    .dataframe tbody tr th {\n",
       "        vertical-align: top;\n",
       "    }\n",
       "\n",
       "    .dataframe thead th {\n",
       "        text-align: right;\n",
       "    }\n",
       "</style>\n",
       "<table border=\"1\" class=\"dataframe\">\n",
       "  <thead>\n",
       "    <tr style=\"text-align: right;\">\n",
       "      <th></th>\n",
       "      <th>date</th>\n",
       "      <th>ticker</th>\n",
       "      <th>val_mv</th>\n",
       "      <th>mv</th>\n",
       "      <th>c_price</th>\n",
       "      <th>pe</th>\n",
       "      <th>pb</th>\n",
       "      <th>ps</th>\n",
       "      <th>turn</th>\n",
       "      <th>oper_rev</th>\n",
       "    </tr>\n",
       "  </thead>\n",
       "  <tbody>\n",
       "    <tr>\n",
       "      <th>0</th>\n",
       "      <td>20060101</td>\n",
       "      <td>600131.SH</td>\n",
       "      <td>173923.1785</td>\n",
       "      <td>58620.6802</td>\n",
       "      <td>3.45</td>\n",
       "      <td>46.2222</td>\n",
       "      <td>2.3344</td>\n",
       "      <td>2.9900</td>\n",
       "      <td>NaN</td>\n",
       "      <td>5.816855e+08</td>\n",
       "    </tr>\n",
       "    <tr>\n",
       "      <th>1</th>\n",
       "      <td>20060101</td>\n",
       "      <td>600114.SH</td>\n",
       "      <td>106547.5000</td>\n",
       "      <td>41692.5000</td>\n",
       "      <td>5.45</td>\n",
       "      <td>11.0670</td>\n",
       "      <td>1.7441</td>\n",
       "      <td>2.4251</td>\n",
       "      <td>NaN</td>\n",
       "      <td>4.393576e+08</td>\n",
       "    </tr>\n",
       "    <tr>\n",
       "      <th>2</th>\n",
       "      <td>20060101</td>\n",
       "      <td>600762.SH</td>\n",
       "      <td>15426.9440</td>\n",
       "      <td>6316.5440</td>\n",
       "      <td>1.46</td>\n",
       "      <td>NaN</td>\n",
       "      <td>6.6396</td>\n",
       "      <td>NaN</td>\n",
       "      <td>NaN</td>\n",
       "      <td>-9.437332e+07</td>\n",
       "    </tr>\n",
       "    <tr>\n",
       "      <th>3</th>\n",
       "      <td>20060101</td>\n",
       "      <td>600755.SH</td>\n",
       "      <td>149778.7192</td>\n",
       "      <td>96011.9992</td>\n",
       "      <td>4.20</td>\n",
       "      <td>9.7317</td>\n",
       "      <td>1.5992</td>\n",
       "      <td>0.1281</td>\n",
       "      <td>NaN</td>\n",
       "      <td>1.169415e+10</td>\n",
       "    </tr>\n",
       "    <tr>\n",
       "      <th>4</th>\n",
       "      <td>20060101</td>\n",
       "      <td>600090.SH</td>\n",
       "      <td>112582.4937</td>\n",
       "      <td>53281.0138</td>\n",
       "      <td>3.06</td>\n",
       "      <td>NaN</td>\n",
       "      <td>NaN</td>\n",
       "      <td>6.5737</td>\n",
       "      <td>NaN</td>\n",
       "      <td>1.712629e+08</td>\n",
       "    </tr>\n",
       "  </tbody>\n",
       "</table>\n",
       "</div>"
      ],
      "text/plain": [
       "       date     ticker       val_mv          mv  c_price       pe      pb  \\\n",
       "0  20060101  600131.SH  173923.1785  58620.6802     3.45  46.2222  2.3344   \n",
       "1  20060101  600114.SH  106547.5000  41692.5000     5.45  11.0670  1.7441   \n",
       "2  20060101  600762.SH   15426.9440   6316.5440     1.46      NaN  6.6396   \n",
       "3  20060101  600755.SH  149778.7192  96011.9992     4.20   9.7317  1.5992   \n",
       "4  20060101  600090.SH  112582.4937  53281.0138     3.06      NaN     NaN   \n",
       "\n",
       "       ps  turn      oper_rev  \n",
       "0  2.9900   NaN  5.816855e+08  \n",
       "1  2.4251   NaN  4.393576e+08  \n",
       "2     NaN   NaN -9.437332e+07  \n",
       "3  0.1281   NaN  1.169415e+10  \n",
       "4  6.5737   NaN  1.712629e+08  "
      ]
     },
     "execution_count": 4,
     "metadata": {},
     "output_type": "execute_result"
    }
   ],
   "source": [
    "df_valfac.head()"
   ]
  },
  {
   "cell_type": "code",
   "execution_count": 5,
   "metadata": {},
   "outputs": [],
   "source": [
    "# get daily closed prices of three stocks from raw data\n",
    "df_price=df_valfac[['date','ticker','c_price']]\n",
    "target=['000001.SZ','600889.SH',\"600090.SH\"]\n",
    "df_c=df_price.loc[df_price['ticker'].isin(target)]"
   ]
  },
  {
   "cell_type": "markdown",
   "metadata": {},
   "source": [
    "# Cleanning data and calculate monthly return"
   ]
  },
  {
   "cell_type": "code",
   "execution_count": 6,
   "metadata": {},
   "outputs": [
    {
     "name": "stderr",
     "output_type": "stream",
     "text": [
      "C:\\Program Files (x86)\\Microsoft Visual Studio\\Shared\\Anaconda3_64\\lib\\site-packages\\ipykernel_launcher.py:2: SettingWithCopyWarning: \n",
      "A value is trying to be set on a copy of a slice from a DataFrame.\n",
      "Try using .loc[row_indexer,col_indexer] = value instead\n",
      "\n",
      "See the caveats in the documentation: http://pandas.pydata.org/pandas-docs/stable/indexing.html#indexing-view-versus-copy\n",
      "  \n"
     ]
    },
    {
     "data": {
      "text/html": [
       "<div>\n",
       "<style scoped>\n",
       "    .dataframe tbody tr th:only-of-type {\n",
       "        vertical-align: middle;\n",
       "    }\n",
       "\n",
       "    .dataframe tbody tr th {\n",
       "        vertical-align: top;\n",
       "    }\n",
       "\n",
       "    .dataframe thead th {\n",
       "        text-align: right;\n",
       "    }\n",
       "</style>\n",
       "<table border=\"1\" class=\"dataframe\">\n",
       "  <thead>\n",
       "    <tr style=\"text-align: right;\">\n",
       "      <th>ticker</th>\n",
       "      <th>000001.SZ</th>\n",
       "      <th>600090.SH</th>\n",
       "      <th>600889.SH</th>\n",
       "    </tr>\n",
       "    <tr>\n",
       "      <th>date</th>\n",
       "      <th></th>\n",
       "      <th></th>\n",
       "      <th></th>\n",
       "    </tr>\n",
       "  </thead>\n",
       "  <tbody>\n",
       "    <tr>\n",
       "      <th>2006-01-31</th>\n",
       "      <td>0.034202</td>\n",
       "      <td>0.000000</td>\n",
       "      <td>0.110345</td>\n",
       "    </tr>\n",
       "    <tr>\n",
       "      <th>2006-02-28</th>\n",
       "      <td>0.077165</td>\n",
       "      <td>0.039216</td>\n",
       "      <td>0.124224</td>\n",
       "    </tr>\n",
       "    <tr>\n",
       "      <th>2006-03-31</th>\n",
       "      <td>-0.060472</td>\n",
       "      <td>0.057508</td>\n",
       "      <td>-0.041667</td>\n",
       "    </tr>\n",
       "    <tr>\n",
       "      <th>2006-04-30</th>\n",
       "      <td>0.237049</td>\n",
       "      <td>0.063444</td>\n",
       "      <td>-0.066667</td>\n",
       "    </tr>\n",
       "    <tr>\n",
       "      <th>2006-05-31</th>\n",
       "      <td>0.114213</td>\n",
       "      <td>0.261364</td>\n",
       "      <td>0.422360</td>\n",
       "    </tr>\n",
       "  </tbody>\n",
       "</table>\n",
       "</div>"
      ],
      "text/plain": [
       "ticker      000001.SZ  600090.SH  600889.SH\n",
       "date                                       \n",
       "2006-01-31   0.034202   0.000000   0.110345\n",
       "2006-02-28   0.077165   0.039216   0.124224\n",
       "2006-03-31  -0.060472   0.057508  -0.041667\n",
       "2006-04-30   0.237049   0.063444  -0.066667\n",
       "2006-05-31   0.114213   0.261364   0.422360"
      ]
     },
     "execution_count": 6,
     "metadata": {},
     "output_type": "execute_result"
    }
   ],
   "source": [
    "# change the type of date\n",
    "df_c['date'] = df_c['date'].apply(str)\n",
    "\n",
    "# length to width\n",
    "df_c_trans=df_c.pivot(\n",
    "\"date\",    #行索引（可以使多个类别变量）\n",
    "\"ticker\",                   #列索引（可以使多个类别变量）\n",
    "\"c_price\"                      #值（一般是度量指标）\n",
    "     )\n",
    "\n",
    "#dft1.index=(dft1.index).apply(str)\n",
    "df_c_trans.index=pd.to_datetime(df_c_trans.index)\n",
    "dft1=df_c_trans.apply(lambda x:x.resample('M').last())\n",
    "dft1\n",
    "\n",
    "dft2=df_c_trans.apply(lambda x: x.resample('M').first())\n",
    "dft2\n",
    "\n",
    "df_Mon_PChg=dft1/dft2-1\n",
    "df_Mon_PChg.head()"
   ]
  },
  {
   "cell_type": "markdown",
   "metadata": {},
   "source": [
    "# Set constraint "
   ]
  },
  {
   "cell_type": "code",
   "execution_count": 7,
   "metadata": {},
   "outputs": [],
   "source": [
    "def getdata():\n",
    "    a=np.array(df_Mon_PChg)\n",
    "    return a \n",
    "    "
   ]
  },
  {
   "cell_type": "code",
   "execution_count": 8,
   "metadata": {},
   "outputs": [],
   "source": [
    "def solver_constraint_1(t):\n",
    "    return t[2]+t[1]+t[0]-1\n",
    "\n",
    "x_cons = ({'type': 'eq', 'fun': solver_constraint_1})"
   ]
  },
  {
   "cell_type": "code",
   "execution_count": 9,
   "metadata": {},
   "outputs": [],
   "source": [
    "#def weigdrawback(df_Mon_PChg,w1,w2,w3):\n",
    "    #df_Mon_PChg['weighted']=w1*df_Mon_PChg.iloc[:,0]+w2*df_Mon_PChg.iloc[:,1]+w3*df_Mon_PChg.iloc[:,2]\n",
    "    #return -df_Mon_PChg['weighted'].min()"
   ]
  },
  {
   "cell_type": "markdown",
   "metadata": {},
   "source": [
    "# Minimize Conditional value at risk"
   ]
  },
  {
   "cell_type": "code",
   "execution_count": null,
   "metadata": {},
   "outputs": [],
   "source": []
  },
  {
   "cell_type": "markdown",
   "metadata": {},
   "source": [
    "# Maximize return"
   ]
  },
  {
   "cell_type": "code",
   "execution_count": 10,
   "metadata": {},
   "outputs": [],
   "source": [
    "def minreturn(x0):\n",
    "    a=getdata()\n",
    "    w1,w2,w3=x0\n",
    "    wd=[]\n",
    "    for i in range(0,len(a)):\n",
    "        wd.append((w1*a[i][0]+w2*a[i][1]+w3*a[i][2]))\n",
    "    x=1\n",
    "    for j in range(0,len(wd)):\n",
    "        x=x*(wd[j]+1)\n",
    "    return -x\n",
    "    "
   ]
  },
  {
   "cell_type": "code",
   "execution_count": 11,
   "metadata": {},
   "outputs": [
    {
     "data": {
      "text/plain": [
       "-2.231615689882035"
      ]
     },
     "execution_count": 11,
     "metadata": {},
     "output_type": "execute_result"
    }
   ],
   "source": [
    "#test for minreturn function\n",
    "x0=[0.06,0.86,0.07]\n",
    "minreturn(x0)"
   ]
  },
  {
   "cell_type": "code",
   "execution_count": 12,
   "metadata": {},
   "outputs": [],
   "source": [
    "from scipy.optimize import minimize\n",
    "x0=[0.1,0.2,0.7]\n",
    "a=np.array(df_Mon_PChg)\n",
    "#cons=({'type': 'eq', 'fun': w1+w2+w3-1})\n",
    "y_minre=minimize(minreturn,x0,bounds=((0,1),(0,1),(0,1)),constraints=x_cons)"
   ]
  },
  {
   "cell_type": "code",
   "execution_count": 13,
   "metadata": {},
   "outputs": [
    {
     "data": {
      "text/plain": [
       "     fun: -3.636239007847186\n",
       "     jac: array([-0.26310074, -0.26330513, -0.26315799])\n",
       " message: 'Optimization terminated successfully.'\n",
       "    nfev: 27\n",
       "     nit: 5\n",
       "    njev: 5\n",
       "  status: 0\n",
       " success: True\n",
       "       x: array([0.3736528 , 0.24074336, 0.38560385])"
      ]
     },
     "execution_count": 13,
     "metadata": {},
     "output_type": "execute_result"
    }
   ],
   "source": [
    "y_minre"
   ]
  },
  {
   "cell_type": "markdown",
   "metadata": {},
   "source": [
    "# Minimize Variance"
   ]
  },
  {
   "cell_type": "code",
   "execution_count": 14,
   "metadata": {},
   "outputs": [],
   "source": [
    "# whether variance is the squared volatility\n",
    "def minvar(x0):\n",
    "    a=getdata()\n",
    "    w1,w2,w3=x0\n",
    "    wd=[]\n",
    "    for i in range(0,len(a)):\n",
    "        wd.append((w1*a[i][0]+w2*a[i][1]+w3*a[i][2]))\n",
    "    return np.var(wd)\n",
    "    "
   ]
  },
  {
   "cell_type": "code",
   "execution_count": 15,
   "metadata": {},
   "outputs": [
    {
     "data": {
      "text/plain": [
       "0.025533350408209136"
      ]
     },
     "execution_count": 15,
     "metadata": {},
     "output_type": "execute_result"
    }
   ],
   "source": [
    "#test for minvar function\n",
    "x0=[0.06,0.87,0.07]\n",
    "minvar(x0)"
   ]
  },
  {
   "cell_type": "code",
   "execution_count": 16,
   "metadata": {},
   "outputs": [],
   "source": [
    "from scipy.optimize import minimize\n",
    "x0=[0.1,0.2,0.7]\n",
    "a=np.array(df_Mon_PChg)\n",
    "#cons=({'type': 'eq', 'fun': w1+w2+w3-1})\n",
    "y_var=minimize(minvar,x0,bounds=((0,1),(0,1),(0,1)),constraints=x_cons)"
   ]
  },
  {
   "cell_type": "code",
   "execution_count": 17,
   "metadata": {},
   "outputs": [
    {
     "data": {
      "text/plain": [
       "     fun: 0.01308731258609668\n",
       "     jac: array([0.02617481, 0.02617435, 0.02617438])\n",
       " message: 'Optimization terminated successfully.'\n",
       "    nfev: 45\n",
       "     nit: 9\n",
       "    njev: 9\n",
       "  status: 0\n",
       " success: True\n",
       "       x: array([0.57553575, 0.16261972, 0.26184453])"
      ]
     },
     "execution_count": 17,
     "metadata": {},
     "output_type": "execute_result"
    }
   ],
   "source": [
    "y_var"
   ]
  },
  {
   "cell_type": "markdown",
   "metadata": {},
   "source": [
    "# Minimize volatility"
   ]
  },
  {
   "cell_type": "code",
   "execution_count": 18,
   "metadata": {},
   "outputs": [],
   "source": [
    "def volatility(x0):\n",
    "    a=getdata()\n",
    "    w1,w2,w3=x0\n",
    "    wd=[]\n",
    "    for i in range(0,len(a)):\n",
    "        wd.append((w1*a[i][0]+w2*a[i][1]+w3*a[i][2]))\n",
    "    return -np.nanstd(wd)\n",
    "    "
   ]
  },
  {
   "cell_type": "code",
   "execution_count": 19,
   "metadata": {},
   "outputs": [
    {
     "data": {
      "text/plain": [
       "-0.13734921484844534"
      ]
     },
     "execution_count": 19,
     "metadata": {},
     "output_type": "execute_result"
    }
   ],
   "source": [
    "#test for volatility function\n",
    "x0=[0.06,0.07,0.87]\n",
    "volatility(x0)"
   ]
  },
  {
   "cell_type": "code",
   "execution_count": 20,
   "metadata": {},
   "outputs": [],
   "source": [
    "from scipy.optimize import minimize\n",
    "x0=[0.1,0.2,0.7]\n",
    "a=np.array(df_Mon_PChg)\n",
    "#cons=({'type': 'eq', 'fun': w1+w2+w3-1})\n",
    "y_vol=minimize(volatility,x0,bounds=((0,1),(0,1),(0,1)),constraints=x_cons)"
   ]
  },
  {
   "cell_type": "code",
   "execution_count": 21,
   "metadata": {},
   "outputs": [
    {
     "data": {
      "text/plain": [
       "     fun: -0.14497624578099766\n",
       "     jac: array([-0.06325249, -0.09781086, -0.14497625])\n",
       " message: 'Optimization terminated successfully.'\n",
       "    nfev: 30\n",
       "     nit: 6\n",
       "    njev: 6\n",
       "  status: 0\n",
       " success: True\n",
       "       x: array([0.00000000e+00, 2.22044605e-16, 1.00000000e+00])"
      ]
     },
     "execution_count": 21,
     "metadata": {},
     "output_type": "execute_result"
    }
   ],
   "source": [
    "y_vol"
   ]
  },
  {
   "cell_type": "markdown",
   "metadata": {},
   "source": [
    "# Minimize maximum drawback"
   ]
  },
  {
   "cell_type": "code",
   "execution_count": 22,
   "metadata": {},
   "outputs": [],
   "source": [
    "def weigdrawback(x0):\n",
    "    a=getdata()\n",
    "    w1,w2,w3=x0\n",
    "    wd=[]\n",
    "    for i in range(0,len(a)):\n",
    "        wd.append((w1*a[i][0]+w2*a[i][1]+w3*a[i][2]))\n",
    "    return -min(wd)"
   ]
  },
  {
   "cell_type": "code",
   "execution_count": 23,
   "metadata": {},
   "outputs": [
    {
     "data": {
      "text/plain": [
       "0.412070835399529"
      ]
     },
     "execution_count": 23,
     "metadata": {},
     "output_type": "execute_result"
    }
   ],
   "source": [
    "#test for weigdrawback function\n",
    "x0=[0.07,0.86,0.07]\n",
    "weigdrawback(x0)"
   ]
  },
  {
   "cell_type": "code",
   "execution_count": 24,
   "metadata": {},
   "outputs": [],
   "source": [
    "from scipy.optimize import minimize\n",
    "x0=[0.1,0.2,0.7]\n",
    "a=np.array(df_Mon_PChg)\n",
    "#cons=({'type': 'eq', 'fun': w1+w2+w3-1})\n",
    "y_mindb=minimize(weigdrawback,x0,bounds=((0,1),(0,1),(0,1)),constraints=x_cons)"
   ]
  },
  {
   "cell_type": "code",
   "execution_count": 25,
   "metadata": {},
   "outputs": [
    {
     "data": {
      "text/plain": [
       "     fun: 0.34774894930947486\n",
       "     jac: array([0.44162775, 0.3       , 0.43128964])\n",
       " message: 'Optimization terminated successfully.'\n",
       "    nfev: 69\n",
       "     nit: 12\n",
       "    njev: 12\n",
       "  status: 0\n",
       " success: True\n",
       "       x: array([3.37140232e-01, 6.62859768e-01, 1.61278215e-15])"
      ]
     },
     "execution_count": 25,
     "metadata": {},
     "output_type": "execute_result"
    }
   ],
   "source": [
    "y_mindb"
   ]
  },
  {
   "cell_type": "markdown",
   "metadata": {},
   "source": [
    "# Maximize sharp rate"
   ]
  },
  {
   "cell_type": "code",
   "execution_count": 26,
   "metadata": {},
   "outputs": [],
   "source": [
    "# for the convenience of test we set the risk free rate as a fixed number\n",
    "def sharprate(x0):\n",
    "    a=getdata()\n",
    "    w1,w2,w3=x0\n",
    "    wd=[]\n",
    "    for i in range(0,len(a)):\n",
    "        wd.append((w1*a[i][0]+w2*a[i][1]+w3*a[i][2]))\n",
    "    sr=(np.mean(wd)-0.02/12)/np.std(wd)\n",
    "    return -sr"
   ]
  },
  {
   "cell_type": "code",
   "execution_count": 27,
   "metadata": {},
   "outputs": [
    {
     "data": {
      "text/plain": [
       "-0.09033374409648143"
      ]
     },
     "execution_count": 27,
     "metadata": {},
     "output_type": "execute_result"
    }
   ],
   "source": [
    "#test for functuon sharprate\n",
    "x0=[0.07,0.86,0.07]\n",
    "v=sharprate(x0)\n",
    "v"
   ]
  },
  {
   "cell_type": "code",
   "execution_count": 28,
   "metadata": {},
   "outputs": [],
   "source": [
    "from scipy.optimize import minimize\n",
    "x0=[0.1,0.2,0.7]\n",
    "a=np.array(df_Mon_PChg)\n",
    "#cons=({'type': 'eq', 'fun': w1+w2+w3-1})\n",
    "y_sr=minimize(sharprate,x0,bounds=((0,1),(0,1),(0,1)),constraints=x_cons)"
   ]
  },
  {
   "cell_type": "code",
   "execution_count": 29,
   "metadata": {},
   "outputs": [
    {
     "data": {
      "text/plain": [
       "     fun: -0.11381653895386679\n",
       "     jac: array([-0.01419948, -0.01423913, -0.014335  ])\n",
       " message: 'Optimization terminated successfully.'\n",
       "    nfev: 50\n",
       "     nit: 10\n",
       "    njev: 10\n",
       "  status: 0\n",
       " success: True\n",
       "       x: array([0.3962072 , 0.20709289, 0.39669991])"
      ]
     },
     "execution_count": 29,
     "metadata": {},
     "output_type": "execute_result"
    }
   ],
   "source": [
    "y_sr"
   ]
  }
 ],
 "metadata": {
  "kernelspec": {
   "display_name": "Python 3",
   "language": "python",
   "name": "python3"
  },
  "language_info": {
   "codemirror_mode": {
    "name": "ipython",
    "version": 3
   },
   "file_extension": ".py",
   "mimetype": "text/x-python",
   "name": "python",
   "nbconvert_exporter": "python",
   "pygments_lexer": "ipython3",
   "version": "3.6.5"
  }
 },
 "nbformat": 4,
 "nbformat_minor": 2
}
